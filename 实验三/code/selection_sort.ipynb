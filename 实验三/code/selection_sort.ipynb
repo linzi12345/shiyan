{
 "cells": [
  {
   "cell_type": "code",
   "execution_count": 1,
   "id": "f5ced952",
   "metadata": {},
   "outputs": [],
   "source": [
    "def selection_sort(arr):\n",
    "    \"\"\"\n",
    "    选择排序函数，对传入的列表进行选择排序操作\n",
    "\n",
    "    :param arr: 待排序的列表\n",
    "    :return: 排序后的列表\n",
    "    \"\"\"\n",
    "    n = len(arr)\n",
    "    for i in range(n):\n",
    "        # 找到未排序部分中最小的元素\n",
    "        min_index = i\n",
    "        for j in range(i+1, n):\n",
    "            if arr[j] < arr[min_index]:\n",
    "                min_index = j\n",
    "        # 将最小元素交换到已排序部分的末尾\n",
    "        arr[i], arr[min_index] = arr[min_index], arr[i]\n",
    "    return arr"
   ]
  },
  {
   "cell_type": "code",
   "execution_count": 2,
   "id": "f6571bc9",
   "metadata": {},
   "outputs": [],
   "source": [
    "def test():\n",
    "    \"\"\"\n",
    "    测试函数，从输入中读取数据，调用 selection_sort 函数进行排序，并输出结果\n",
    "    \"\"\"\n",
    "    # 读取输入数据\n",
    "    n = int(input(\"请输入待排序列表的长度：\"))\n",
    "    arr = list(map(int, input(\"请输入待排序的列表元素，以空格分隔：\").split()))\n",
    "\n",
    "    # 调用 selection_sort 函数进行排序\n",
    "    sorted_arr = selection_sort(arr)\n",
    "\n",
    "    # 输出排序结果\n",
    "    print(\"排序后的列表为：\", end=\"\")\n",
    "    for i in range(n):\n",
    "        print(sorted_arr[i], end=\" \")\n",
    "    print()"
   ]
  },
  {
   "cell_type": "code",
   "execution_count": 4,
   "id": "67505b60",
   "metadata": {},
   "outputs": [
    {
     "name": "stdout",
     "output_type": "stream",
     "text": [
      "排序后的列表为：1 2 3 4 5 \n"
     ]
    }
   ],
   "source": [
    "test()"
   ]
  }
 ],
 "metadata": {
  "kernelspec": {
   "display_name": "Python 3.8.5 64-bit",
   "language": "python",
   "name": "python3"
  },
  "language_info": {
   "codemirror_mode": {
    "name": "ipython",
    "version": 3
   },
   "file_extension": ".py",
   "mimetype": "text/x-python",
   "name": "python",
   "nbconvert_exporter": "python",
   "pygments_lexer": "ipython3",
   "version": "3.8.5"
  },
  "vscode": {
   "interpreter": {
    "hash": "18288f3804e1c6269a530239623b49c49561b74fa0da91b2aef69d1f54cdbeba"
   }
  }
 },
 "nbformat": 4,
 "nbformat_minor": 5
}
